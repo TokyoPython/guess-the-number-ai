{
 "cells": [
  {
   "cell_type": "markdown",
   "metadata": {},
   "source": [
    "# Implementing AI for number guessing game"
   ]
  },
  {
   "cell_type": "code",
   "execution_count": null,
   "metadata": {},
   "outputs": [],
   "source": [
    "import random\n",
    "\n",
    "import matplotlib\n",
    "%matplotlib inline\n",
    "matplotlib.rcParams['figure.figsize'] = 16, 9\n",
    "\n",
    "import pylab\n",
    "\n",
    "from guess_the_number_ai_lib import Hint, GuessingGame, GuessingGameAi, \\\n",
    "    StupidAi, SequencingAi, SignedSequencingAi, OptimalAi, GuessingGameAiTester"
   ]
  },
  {
   "cell_type": "markdown",
   "metadata": {},
   "source": [
    "# Your solution"
   ]
  },
  {
   "cell_type": "markdown",
   "metadata": {},
   "source": [
    "Below is a template of implementation where you should add your solution."
   ]
  },
  {
   "cell_type": "code",
   "execution_count": null,
   "metadata": {},
   "outputs": [],
   "source": [
    "class MyAi(GuessingGameAi):\n",
    "\n",
    "    \"\"\"Implement your solution here.\"\"\"\n",
    "\n",
    "    def __init__(self, game):\n",
    "        \"\"\"Initialize new instance of MyAi.\"\"\"\n",
    "        super().__init__(game)\n",
    "        # add extra variables below\n",
    "        pass\n",
    "\n",
    "    def generate_guess(self) -> int:\n",
    "        \"\"\"Generate a number within the range allowed by the game.\n",
    "\n",
    "        You may use and/or modify variables defined in __init__(), for example self.game.\n",
    "\n",
    "        Make sure to return an integer number within range defined in the game.\n",
    "        \"\"\"\n",
    "        # write your code below...\n",
    "        pass\n",
    "\n",
    "    def receive_hint(self, hint: Hint):\n",
    "        \"\"\"Analyse the hint given by the game.\n",
    "\n",
    "        You may use and/or modify variables defined in __init__(), for example self.game.\n",
    "\n",
    "        To check what the hint actually is, use the fact that hint is of type Hint. For example,\n",
    "        you can use \"if hint is Hint.Higher: ...\" etc.\n",
    "        \"\"\"\n",
    "        # write your code below...\n",
    "        pass"
   ]
  },
  {
   "cell_type": "markdown",
   "metadata": {},
   "source": [
    "example game:"
   ]
  },
  {
   "cell_type": "code",
   "execution_count": null,
   "metadata": {},
   "outputs": [],
   "source": [
    "MyAi(GuessingGame(0, 100)).generate_guesses_until_hit()"
   ]
  },
  {
   "cell_type": "markdown",
   "metadata": {},
   "source": [
    "## Testing your solution against example AIs"
   ]
  },
  {
   "cell_type": "code",
   "execution_count": null,
   "metadata": {
    "scrolled": false
   },
   "outputs": [],
   "source": [
    "GuessingGameAiTester([StupidAi, SequencingAi, SignedSequencingAi, MyAi]).run_tests_and_plot_results()"
   ]
  },
  {
   "cell_type": "markdown",
   "metadata": {},
   "source": [
    "## Testing your solution against the optimal solution"
   ]
  },
  {
   "cell_type": "code",
   "execution_count": null,
   "metadata": {},
   "outputs": [],
   "source": [
    "GuessingGameAiTester([OptimalAi, MyAi]).run_tests_and_plot_results()"
   ]
  }
 ],
 "metadata": {
  "kernelspec": {
   "display_name": "Python 3",
   "language": "python",
   "name": "python3"
  },
  "language_info": {
   "codemirror_mode": {
    "name": "ipython",
    "version": 3
   },
   "file_extension": ".py",
   "mimetype": "text/x-python",
   "name": "python",
   "nbconvert_exporter": "python",
   "pygments_lexer": "ipython3",
   "version": "3.6.0"
  }
 },
 "nbformat": 4,
 "nbformat_minor": 1
}
